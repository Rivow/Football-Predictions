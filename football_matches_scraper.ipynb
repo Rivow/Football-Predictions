{
 "cells": [
  {
   "cell_type": "code",
   "execution_count": 1,
   "id": "3d133d6d-645b-469b-a256-ce0664a1897f",
   "metadata": {},
   "outputs": [],
   "source": [
    "import requests"
   ]
  },
  {
   "cell_type": "code",
   "execution_count": 2,
   "id": "1e747ded-0dd0-46d5-a0c1-effa6689e432",
   "metadata": {},
   "outputs": [],
   "source": [
    "from bs4 import BeautifulSoup"
   ]
  },
  {
   "cell_type": "code",
   "execution_count": 3,
   "id": "7b940b38-e078-4857-82b3-c973f828ed03",
   "metadata": {},
   "outputs": [],
   "source": [
    "import pandas as pd"
   ]
  },
  {
   "cell_type": "code",
   "execution_count": 4,
   "id": "f553f07f-482e-4909-a5a3-ae4fd9768655",
   "metadata": {},
   "outputs": [],
   "source": [
    "years = list(range(2022, 2018, -1))"
   ]
  },
  {
   "cell_type": "code",
   "execution_count": 5,
   "id": "a8df150a-2799-4e26-ae4b-b2b20a4f1f07",
   "metadata": {},
   "outputs": [],
   "source": [
    "all_matches = []"
   ]
  },
  {
   "cell_type": "code",
   "execution_count": 28,
   "id": "3f55dd99-81ed-465e-884c-8d51f78a32bb",
   "metadata": {},
   "outputs": [],
   "source": [
    "groups_url = 'https://fbref.com/en/comps/1/1711/2022-FIFA-World-Cup-Stats' "
   ]
  },
  {
   "cell_type": "code",
   "execution_count": 32,
   "id": "4f91f2b5-381f-4026-8f41-907eb73edb52",
   "metadata": {},
   "outputs": [
    {
     "name": "stdout",
     "output_type": "stream",
     "text": [
      "Ecuador 2022 <Response [200]>\n",
      "Netherlands 2022 <Response [200]>\n",
      "Senegal 2022 <Response [200]>\n",
      "Qatar 2022 <Response [200]>\n",
      "England 2022 <Response [200]>\n",
      "IR-Iran 2022 <Response [200]>\n",
      "United-States 2022 <Response [200]>\n",
      "Wales 2022 <Response [200]>\n",
      "Argentina 2022 <Response [200]>\n",
      "Mexico 2022 <Response [200]>\n",
      "Poland 2022 <Response [200]>\n",
      "Saudi-Arabia 2022 <Response [200]>\n",
      "Australia 2022 <Response [200]>\n",
      "Denmark 2022 <Response [200]>\n",
      "France 2022 <Response [200]>\n",
      "Tunisia 2022 <Response [200]>\n",
      "Costa-Rica 2022 <Response [200]>\n",
      "Germany 2022 <Response [200]>\n",
      "Japan 2022 <Response [200]>\n",
      "Spain 2022 <Response [200]>\n",
      "Belgium 2022 <Response [200]>\n",
      "Canada 2022 <Response [200]>\n",
      "Croatia 2022 <Response [200]>\n",
      "Morocco 2022 <Response [200]>\n",
      "Brazil 2022 <Response [200]>\n",
      "Cameroon 2022 <Response [200]>\n",
      "Serbia 2022 <Response [200]>\n",
      "Switzerland 2022 <Response [200]>\n",
      "Ghana 2022 <Response [200]>\n",
      "Korea-Republic 2022 <Response [200]>\n",
      "Korea-Republic 2021 <Response [200]>\n",
      "Korea-Republic 2020 <Response [200]>\n",
      "Korea-Republic 2019 <Response [200]>\n",
      "Portugal 2022 <Response [200]>\n",
      "Portugal 2021 <Response [200]>\n",
      "Portugal 2020 <Response [200]>\n",
      "Portugal 2019 <Response [200]>\n",
      "Uruguay 2022 <Response [200]>\n",
      "Uruguay 2021 <Response [200]>\n",
      "Uruguay 2020 <Response [200]>\n",
      "Uruguay 2019 <Response [200]>\n"
     ]
    }
   ],
   "source": [
    "import time\n",
    "\n",
    "data = requests.get(groups_url)\n",
    "soup = BeautifulSoup(data.text)\n",
    "standings_table = soup.select('table.stats_table')[0:9]\n",
    "links = [st.find_all('a') for st in standings_table]\n",
    "\n",
    "# get all the links of the groups in a single list \n",
    "all_links = [link for groups in links for link in groups]\n",
    "all_links = [l.get('href') for l in all_links]\n",
    "all_list = [l for l in all_links if '/squads/' in l]\n",
    "team_urls = [f'https://fbref.com{l}' for l in all_list]\n",
    "    \n",
    "for team_url in team_urls:\n",
    "    team_name = team_url.split('/')[-1].replace('-Men-Stats', '')\n",
    "\n",
    "    for year in years:\n",
    "        if year == 2022:\n",
    "            season = 2022\n",
    "        else:\n",
    "            season = team_url.split('/')[-2]\n",
    "        print(team_name ,year, data)\n",
    "        data = requests.get(team_url)\n",
    "        #create matches df\n",
    "        matches = pd.read_html(data.text, match='Scores & Fixtures')[0]\n",
    "\n",
    "        #get and create shooting df\n",
    "        soup = BeautifulSoup(data.text)\n",
    "        links = soup.find_all('a')\n",
    "        links = [l.get('href') for l in links]\n",
    "        links = [l for l in links if l and '/all_comps/shooting/' in l]\n",
    "        data = requests.get(f'https://fbref.com{links[0]}')\n",
    "        shooting = pd.read_html(data.text, match='Shooting')[0]\n",
    "        shooting.columns = shooting.columns.droplevel()\n",
    "\n",
    "        # somtimes shooting values dont exist for some teams\n",
    "        try:\n",
    "            team_data = matches.merge(shooting[['Date', 'Sh', 'SoT', 'PK', 'PKatt']], on ='Date')\n",
    "        except ValueError:\n",
    "            continue\n",
    "            \n",
    "        previous_season = soup.select('div.prevnext')[0]\n",
    "        previous_season = previous_season.select('a')[0].get('href')\n",
    "        team_url = f'https://fbref.com{previous_season}'\n",
    "        team_data['Season'] = season\n",
    "        team_data['Team'] = team_name\n",
    "        all_matches.append(team_data)\n",
    "        time.sleep(10)"
   ]
  },
  {
   "cell_type": "code",
   "execution_count": 33,
   "id": "f7986ea8-fb48-48fb-8a9a-e55bfbed2cd3",
   "metadata": {},
   "outputs": [],
   "source": [
    "match_df = pd.concat(all_matches)"
   ]
  },
  {
   "cell_type": "code",
   "execution_count": 34,
   "id": "9c8dfb05-5a1e-4866-bbdd-2e3a24075683",
   "metadata": {},
   "outputs": [],
   "source": [
    "match_df.columns = [c.lower() for c in match_df.columns]"
   ]
  },
  {
   "cell_type": "code",
   "execution_count": 35,
   "id": "19436915-8520-45fd-9788-85938cd1ad97",
   "metadata": {},
   "outputs": [
    {
     "data": {
      "text/plain": [
       "32"
      ]
     },
     "execution_count": 35,
     "metadata": {},
     "output_type": "execute_result"
    }
   ],
   "source": [
    "len(match_df[match_df['season']==2022].team.unique())"
   ]
  },
  {
   "cell_type": "code",
   "execution_count": 60,
   "id": "391a76be-d65a-4bfd-810d-bbfba4c86438",
   "metadata": {},
   "outputs": [
    {
     "name": "stdout",
     "output_type": "stream",
     "text": [
      "<class 'pandas.core.frame.DataFrame'>\n",
      "Int64Index: 1959 entries, 0 to 28\n",
      "Data columns (total 25 columns):\n",
      " #   Column        Non-Null Count  Dtype  \n",
      "---  ------        --------------  -----  \n",
      " 0   date          1959 non-null   object \n",
      " 1   time          1959 non-null   object \n",
      " 2   comp          1959 non-null   object \n",
      " 3   round         1959 non-null   object \n",
      " 4   day           1959 non-null   object \n",
      " 5   venue         1959 non-null   object \n",
      " 6   result        1958 non-null   object \n",
      " 7   gf            1958 non-null   object \n",
      " 8   ga            1958 non-null   object \n",
      " 9   opponent      1959 non-null   object \n",
      " 10  poss          1049 non-null   float64\n",
      " 11  attendance    939 non-null    float64\n",
      " 12  captain       1852 non-null   object \n",
      " 13  formation     1843 non-null   object \n",
      " 14  referee       1955 non-null   object \n",
      " 15  match report  1959 non-null   object \n",
      " 16  notes         64 non-null     object \n",
      " 17  sh            1050 non-null   float64\n",
      " 18  sot           1050 non-null   float64\n",
      " 19  pk            1956 non-null   float64\n",
      " 20  pkatt         1956 non-null   float64\n",
      " 21  season        1959 non-null   object \n",
      " 22  team          1959 non-null   object \n",
      " 23  xg            97 non-null     float64\n",
      " 24  xga           97 non-null     float64\n",
      "dtypes: float64(8), object(17)\n",
      "memory usage: 397.9+ KB\n"
     ]
    }
   ],
   "source": [
    "match_df.info()"
   ]
  },
  {
   "cell_type": "code",
   "execution_count": 75,
   "id": "0575d415-4de7-4a25-80e6-66dcab2968e9",
   "metadata": {},
   "outputs": [],
   "source": [
    "match_df.to_csv('matches.csv')"
   ]
  }
 ],
 "metadata": {
  "kernelspec": {
   "display_name": "Python 3 (ipykernel)",
   "language": "python",
   "name": "python3"
  },
  "language_info": {
   "codemirror_mode": {
    "name": "ipython",
    "version": 3
   },
   "file_extension": ".py",
   "mimetype": "text/x-python",
   "name": "python",
   "nbconvert_exporter": "python",
   "pygments_lexer": "ipython3",
   "version": "3.8.10"
  }
 },
 "nbformat": 4,
 "nbformat_minor": 5
}
