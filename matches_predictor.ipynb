{
 "cells": [
  {
   "cell_type": "code",
   "execution_count": 348,
   "id": "c46dc861-cc15-4374-86b4-8315180d4e0a",
   "metadata": {},
   "outputs": [],
   "source": [
    "import pandas as pd"
   ]
  },
  {
   "cell_type": "code",
   "execution_count": 349,
   "id": "79ffa41e-50a4-46da-a8d3-b36930550cf2",
   "metadata": {},
   "outputs": [],
   "source": [
    "matches_df = pd.read_csv('matches.csv', index_col=0)"
   ]
  },
  {
   "cell_type": "code",
   "execution_count": 350,
   "id": "edab15f7-9069-42b3-9ffb-b88193c45e1e",
   "metadata": {},
   "outputs": [],
   "source": [
    "matches_df['opponent'] = matches_df['opponent'].str.split().str[1:].str.join(' ')"
   ]
  },
  {
   "cell_type": "code",
   "execution_count": 351,
   "id": "e8bee0b8-e8fd-4790-bf56-8f2e6d721ec4",
   "metadata": {},
   "outputs": [
    {
     "name": "stdout",
     "output_type": "stream",
     "text": [
      "<class 'pandas.core.frame.DataFrame'>\n",
      "Int64Index: 1959 entries, 0 to 28\n",
      "Data columns (total 25 columns):\n",
      " #   Column        Non-Null Count  Dtype  \n",
      "---  ------        --------------  -----  \n",
      " 0   date          1959 non-null   object \n",
      " 1   time          1959 non-null   object \n",
      " 2   comp          1959 non-null   object \n",
      " 3   round         1959 non-null   object \n",
      " 4   day           1959 non-null   object \n",
      " 5   venue         1959 non-null   object \n",
      " 6   result        1958 non-null   object \n",
      " 7   gf            1958 non-null   object \n",
      " 8   ga            1958 non-null   object \n",
      " 9   opponent      1959 non-null   object \n",
      " 10  poss          1049 non-null   float64\n",
      " 11  attendance    939 non-null    float64\n",
      " 12  captain       1852 non-null   object \n",
      " 13  formation     1843 non-null   object \n",
      " 14  referee       1955 non-null   object \n",
      " 15  match report  1959 non-null   object \n",
      " 16  notes         64 non-null     object \n",
      " 17  sh            1050 non-null   float64\n",
      " 18  sot           1050 non-null   float64\n",
      " 19  pk            1956 non-null   float64\n",
      " 20  pkatt         1956 non-null   float64\n",
      " 21  season        1959 non-null   object \n",
      " 22  team          1959 non-null   object \n",
      " 23  xg            97 non-null     float64\n",
      " 24  xga           97 non-null     float64\n",
      "dtypes: float64(8), object(17)\n",
      "memory usage: 397.9+ KB\n"
     ]
    }
   ],
   "source": [
    "matches_df.info()"
   ]
  },
  {
   "cell_type": "code",
   "execution_count": 352,
   "id": "88ddcb01-3b27-4f22-86e3-465ead4a47f2",
   "metadata": {},
   "outputs": [],
   "source": [
    "matches_df['date'] = pd.to_datetime(matches_df['date'])"
   ]
  },
  {
   "cell_type": "code",
   "execution_count": 353,
   "id": "10c73a4e-fc79-44a6-aaca-3e504be7c4a4",
   "metadata": {},
   "outputs": [],
   "source": [
    "#clening the gf and ga column and making it an int\n",
    "matches_df['gf'] = matches_df['gf'].str.split().str[0]\n",
    "matches_df['gf'] = matches_df['gf'].str.split('.').str[0]\n",
    "\n",
    "matches_df['ga'] = matches_df['ga'].str.split().str[0]\n",
    "matches_df['ga'] = matches_df['ga'].str.split('.').str[0]\n",
    "\n",
    "matches_df.dropna(subset=['gf'], inplace=True)\n",
    "matches_df['gf'] = matches_df['gf'].astype(int)\n",
    "matches_df['ga'] = matches_df['ga'].astype(int)"
   ]
  },
  {
   "cell_type": "code",
   "execution_count": 354,
   "id": "06f5233f-620e-4c52-8cbb-4490786503a0",
   "metadata": {},
   "outputs": [],
   "source": [
    "matches_df['opp_code'] = matches_df.opponent.astype('category').cat.codes "
   ]
  },
  {
   "cell_type": "code",
   "execution_count": 355,
   "id": "88435305-57cb-4bca-ab9c-9093f8d969f7",
   "metadata": {},
   "outputs": [],
   "source": [
    "matches_df['hour'] = matches_df['time'].str.replace(':.+', '', regex=True).astype(int)"
   ]
  },
  {
   "cell_type": "code",
   "execution_count": 356,
   "id": "48a3ac66-62dd-455e-b155-152bac398d1d",
   "metadata": {},
   "outputs": [],
   "source": [
    "matches_df['round_code'] = matches_df['round'].astype('category').cat.codes "
   ]
  },
  {
   "cell_type": "code",
   "execution_count": 357,
   "id": "f666e755-9906-401b-9d78-5e15910b5e4b",
   "metadata": {},
   "outputs": [],
   "source": [
    "matches_df['day_code'] = matches_df['date'].dt.dayofweek"
   ]
  },
  {
   "cell_type": "code",
   "execution_count": 358,
   "id": "ea70797c-43f4-48f4-8d66-0b1be341af07",
   "metadata": {},
   "outputs": [],
   "source": [
    "#matches_df['target'] = matches_df['result'].astype('category').cat.codes\n",
    "matches_df['target'] = (matches_df['result'] == 'W').astype(int)"
   ]
  },
  {
   "cell_type": "code",
   "execution_count": 359,
   "id": "8c11c593-ede0-466f-b3f6-d9dbde305cfa",
   "metadata": {},
   "outputs": [
    {
     "data": {
      "application/com.datacamp.data-table.v1+json": {
       "is_truncated": false,
       "table": {
        "data": [
         {
          "attendance": null,
          "captain": "Enner Valencia",
          "comp": "WCQ",
          "date": "2020-10-08T00:00:00.000Z",
          "day": "Thu",
          "day_code": 3,
          "formation": "4-1-4-1",
          "ga": 1,
          "gf": 0,
          "hour": 21,
          "index": 0,
          "match report": "Match Report",
          "notes": null,
          "opp_code": 5,
          "opponent": "Argentina",
          "pk": 0,
          "pkatt": 0,
          "poss": 42,
          "referee": "Roberto Tobar",
          "result": "L",
          "round": "WCQ — CONMEBOL (M)",
          "round_code": 14,
          "season": "2022",
          "sh": 4,
          "sot": 0,
          "target": 0,
          "team": "Ecuador",
          "time": "21:30",
          "venue": "Away",
          "xg": null,
          "xga": null
         },
         {
          "attendance": null,
          "captain": "Enner Valencia",
          "comp": "WCQ",
          "date": "2020-10-13T00:00:00.000Z",
          "day": "Tue",
          "day_code": 1,
          "formation": "4-4-2",
          "ga": 2,
          "gf": 4,
          "hour": 16,
          "index": 1,
          "match report": "Match Report",
          "notes": null,
          "opp_code": 163,
          "opponent": "Uruguay",
          "pk": 0,
          "pkatt": 0,
          "poss": 51,
          "referee": "Wilmar Roldán",
          "result": "W",
          "round": "WCQ — CONMEBOL (M)",
          "round_code": 14,
          "season": "2022",
          "sh": 17,
          "sot": 7,
          "target": 1,
          "team": "Ecuador",
          "time": "16:00",
          "venue": "Home",
          "xg": null,
          "xga": null
         },
         {
          "attendance": null,
          "captain": "Alexander Domínguez",
          "comp": "WCQ",
          "date": "2020-11-12T00:00:00.000Z",
          "day": "Thu",
          "day_code": 3,
          "formation": "4-2-3-1",
          "ga": 2,
          "gf": 3,
          "hour": 16,
          "index": 2,
          "match report": "Match Report",
          "notes": null,
          "opp_code": 18,
          "opponent": "Bolivia",
          "pk": 1,
          "pkatt": 1,
          "poss": 62,
          "referee": "Wilton Pereira Sampaio",
          "result": "W",
          "round": "WCQ — CONMEBOL (M)",
          "round_code": 14,
          "season": "2022",
          "sh": 12,
          "sot": 6,
          "target": 1,
          "team": "Ecuador",
          "time": "16:00",
          "venue": "Away",
          "xg": null,
          "xga": null
         },
         {
          "attendance": null,
          "captain": "Alexander Domínguez",
          "comp": "WCQ",
          "date": "2020-11-17T00:00:00.000Z",
          "day": "Tue",
          "day_code": 1,
          "formation": "4-2-3-1",
          "ga": 1,
          "gf": 6,
          "hour": 16,
          "index": 3,
          "match report": "Match Report",
          "notes": null,
          "opp_code": 34,
          "opponent": "Colombia",
          "pk": 0,
          "pkatt": 0,
          "poss": 53,
          "referee": "Jesús Valenzuela",
          "result": "W",
          "round": "WCQ — CONMEBOL (M)",
          "round_code": 14,
          "season": "2022",
          "sh": 15,
          "sot": 10,
          "target": 1,
          "team": "Ecuador",
          "time": "16:00",
          "venue": "Home",
          "xg": null,
          "xga": null
         },
         {
          "attendance": null,
          "captain": "Enner Valencia",
          "comp": "WCQ",
          "date": "2021-06-04T00:00:00.000Z",
          "day": "Fri",
          "day_code": 4,
          "formation": "4-4-2",
          "ga": 2,
          "gf": 0,
          "hour": 21,
          "index": 4,
          "match report": "Match Report",
          "notes": null,
          "opp_code": 21,
          "opponent": "Brazil",
          "pk": 0,
          "pkatt": 0,
          "poss": 34,
          "referee": "Alexis Herrera",
          "result": "L",
          "round": "WCQ — CONMEBOL (M)",
          "round_code": 14,
          "season": "2022",
          "sh": 3,
          "sot": 0,
          "target": 0,
          "team": "Ecuador",
          "time": "21:30",
          "venue": "Away",
          "xg": null,
          "xga": null
         }
        ],
        "schema": {
         "fields": [
          {
           "name": "index",
           "type": "integer"
          },
          {
           "name": "date",
           "type": "datetime"
          },
          {
           "name": "time",
           "type": "string"
          },
          {
           "name": "comp",
           "type": "string"
          },
          {
           "name": "round",
           "type": "string"
          },
          {
           "name": "day",
           "type": "string"
          },
          {
           "name": "venue",
           "type": "string"
          },
          {
           "name": "result",
           "type": "string"
          },
          {
           "name": "gf",
           "type": "integer"
          },
          {
           "name": "ga",
           "type": "integer"
          },
          {
           "name": "opponent",
           "type": "string"
          },
          {
           "name": "poss",
           "type": "number"
          },
          {
           "name": "attendance",
           "type": "number"
          },
          {
           "name": "captain",
           "type": "string"
          },
          {
           "name": "formation",
           "type": "string"
          },
          {
           "name": "referee",
           "type": "string"
          },
          {
           "name": "match report",
           "type": "string"
          },
          {
           "name": "notes",
           "type": "string"
          },
          {
           "name": "sh",
           "type": "number"
          },
          {
           "name": "sot",
           "type": "number"
          },
          {
           "name": "pk",
           "type": "number"
          },
          {
           "name": "pkatt",
           "type": "number"
          },
          {
           "name": "season",
           "type": "string"
          },
          {
           "name": "team",
           "type": "string"
          },
          {
           "name": "xg",
           "type": "number"
          },
          {
           "name": "xga",
           "type": "number"
          },
          {
           "name": "opp_code",
           "type": "integer"
          },
          {
           "name": "hour",
           "type": "integer"
          },
          {
           "name": "round_code",
           "type": "integer"
          },
          {
           "name": "day_code",
           "type": "integer"
          },
          {
           "name": "target",
           "type": "integer"
          }
         ],
         "pandas_version": "0.20.0",
         "primaryKey": [
          "index"
         ]
        }
       },
       "total_rows": 5
      },
      "text/html": [
       "<div>\n",
       "<style scoped>\n",
       "    .dataframe tbody tr th:only-of-type {\n",
       "        vertical-align: middle;\n",
       "    }\n",
       "\n",
       "    .dataframe tbody tr th {\n",
       "        vertical-align: top;\n",
       "    }\n",
       "\n",
       "    .dataframe thead th {\n",
       "        text-align: right;\n",
       "    }\n",
       "</style>\n",
       "<table border=\"1\" class=\"dataframe\">\n",
       "  <thead>\n",
       "    <tr style=\"text-align: right;\">\n",
       "      <th></th>\n",
       "      <th>date</th>\n",
       "      <th>time</th>\n",
       "      <th>comp</th>\n",
       "      <th>round</th>\n",
       "      <th>day</th>\n",
       "      <th>venue</th>\n",
       "      <th>result</th>\n",
       "      <th>gf</th>\n",
       "      <th>ga</th>\n",
       "      <th>opponent</th>\n",
       "      <th>...</th>\n",
       "      <th>pkatt</th>\n",
       "      <th>season</th>\n",
       "      <th>team</th>\n",
       "      <th>xg</th>\n",
       "      <th>xga</th>\n",
       "      <th>opp_code</th>\n",
       "      <th>hour</th>\n",
       "      <th>round_code</th>\n",
       "      <th>day_code</th>\n",
       "      <th>target</th>\n",
       "    </tr>\n",
       "  </thead>\n",
       "  <tbody>\n",
       "    <tr>\n",
       "      <th>0</th>\n",
       "      <td>2020-10-08</td>\n",
       "      <td>21:30</td>\n",
       "      <td>WCQ</td>\n",
       "      <td>WCQ — CONMEBOL (M)</td>\n",
       "      <td>Thu</td>\n",
       "      <td>Away</td>\n",
       "      <td>L</td>\n",
       "      <td>0</td>\n",
       "      <td>1</td>\n",
       "      <td>Argentina</td>\n",
       "      <td>...</td>\n",
       "      <td>0.0</td>\n",
       "      <td>2022</td>\n",
       "      <td>Ecuador</td>\n",
       "      <td>NaN</td>\n",
       "      <td>NaN</td>\n",
       "      <td>5</td>\n",
       "      <td>21</td>\n",
       "      <td>14</td>\n",
       "      <td>3</td>\n",
       "      <td>0</td>\n",
       "    </tr>\n",
       "    <tr>\n",
       "      <th>1</th>\n",
       "      <td>2020-10-13</td>\n",
       "      <td>16:00</td>\n",
       "      <td>WCQ</td>\n",
       "      <td>WCQ — CONMEBOL (M)</td>\n",
       "      <td>Tue</td>\n",
       "      <td>Home</td>\n",
       "      <td>W</td>\n",
       "      <td>4</td>\n",
       "      <td>2</td>\n",
       "      <td>Uruguay</td>\n",
       "      <td>...</td>\n",
       "      <td>0.0</td>\n",
       "      <td>2022</td>\n",
       "      <td>Ecuador</td>\n",
       "      <td>NaN</td>\n",
       "      <td>NaN</td>\n",
       "      <td>163</td>\n",
       "      <td>16</td>\n",
       "      <td>14</td>\n",
       "      <td>1</td>\n",
       "      <td>1</td>\n",
       "    </tr>\n",
       "    <tr>\n",
       "      <th>2</th>\n",
       "      <td>2020-11-12</td>\n",
       "      <td>16:00</td>\n",
       "      <td>WCQ</td>\n",
       "      <td>WCQ — CONMEBOL (M)</td>\n",
       "      <td>Thu</td>\n",
       "      <td>Away</td>\n",
       "      <td>W</td>\n",
       "      <td>3</td>\n",
       "      <td>2</td>\n",
       "      <td>Bolivia</td>\n",
       "      <td>...</td>\n",
       "      <td>1.0</td>\n",
       "      <td>2022</td>\n",
       "      <td>Ecuador</td>\n",
       "      <td>NaN</td>\n",
       "      <td>NaN</td>\n",
       "      <td>18</td>\n",
       "      <td>16</td>\n",
       "      <td>14</td>\n",
       "      <td>3</td>\n",
       "      <td>1</td>\n",
       "    </tr>\n",
       "    <tr>\n",
       "      <th>3</th>\n",
       "      <td>2020-11-17</td>\n",
       "      <td>16:00</td>\n",
       "      <td>WCQ</td>\n",
       "      <td>WCQ — CONMEBOL (M)</td>\n",
       "      <td>Tue</td>\n",
       "      <td>Home</td>\n",
       "      <td>W</td>\n",
       "      <td>6</td>\n",
       "      <td>1</td>\n",
       "      <td>Colombia</td>\n",
       "      <td>...</td>\n",
       "      <td>0.0</td>\n",
       "      <td>2022</td>\n",
       "      <td>Ecuador</td>\n",
       "      <td>NaN</td>\n",
       "      <td>NaN</td>\n",
       "      <td>34</td>\n",
       "      <td>16</td>\n",
       "      <td>14</td>\n",
       "      <td>1</td>\n",
       "      <td>1</td>\n",
       "    </tr>\n",
       "    <tr>\n",
       "      <th>4</th>\n",
       "      <td>2021-06-04</td>\n",
       "      <td>21:30</td>\n",
       "      <td>WCQ</td>\n",
       "      <td>WCQ — CONMEBOL (M)</td>\n",
       "      <td>Fri</td>\n",
       "      <td>Away</td>\n",
       "      <td>L</td>\n",
       "      <td>0</td>\n",
       "      <td>2</td>\n",
       "      <td>Brazil</td>\n",
       "      <td>...</td>\n",
       "      <td>0.0</td>\n",
       "      <td>2022</td>\n",
       "      <td>Ecuador</td>\n",
       "      <td>NaN</td>\n",
       "      <td>NaN</td>\n",
       "      <td>21</td>\n",
       "      <td>21</td>\n",
       "      <td>14</td>\n",
       "      <td>4</td>\n",
       "      <td>0</td>\n",
       "    </tr>\n",
       "  </tbody>\n",
       "</table>\n",
       "<p>5 rows × 30 columns</p>\n",
       "</div>"
      ],
      "text/plain": [
       "        date   time comp               round  day venue result  gf  ga  \\\n",
       "0 2020-10-08  21:30  WCQ  WCQ — CONMEBOL (M)  Thu  Away      L   0   1   \n",
       "1 2020-10-13  16:00  WCQ  WCQ — CONMEBOL (M)  Tue  Home      W   4   2   \n",
       "2 2020-11-12  16:00  WCQ  WCQ — CONMEBOL (M)  Thu  Away      W   3   2   \n",
       "3 2020-11-17  16:00  WCQ  WCQ — CONMEBOL (M)  Tue  Home      W   6   1   \n",
       "4 2021-06-04  21:30  WCQ  WCQ — CONMEBOL (M)  Fri  Away      L   0   2   \n",
       "\n",
       "    opponent  ...  pkatt  season     team  xg xga opp_code hour  round_code  \\\n",
       "0  Argentina  ...    0.0    2022  Ecuador NaN NaN        5   21          14   \n",
       "1    Uruguay  ...    0.0    2022  Ecuador NaN NaN      163   16          14   \n",
       "2    Bolivia  ...    1.0    2022  Ecuador NaN NaN       18   16          14   \n",
       "3   Colombia  ...    0.0    2022  Ecuador NaN NaN       34   16          14   \n",
       "4     Brazil  ...    0.0    2022  Ecuador NaN NaN       21   21          14   \n",
       "\n",
       "   day_code  target  \n",
       "0         3       0  \n",
       "1         1       1  \n",
       "2         3       1  \n",
       "3         1       1  \n",
       "4         4       0  \n",
       "\n",
       "[5 rows x 30 columns]"
      ]
     },
     "execution_count": 359,
     "metadata": {},
     "output_type": "execute_result"
    }
   ],
   "source": [
    "matches_df.head()"
   ]
  },
  {
   "cell_type": "code",
   "execution_count": 360,
   "id": "84fba770-23be-4dd7-a503-9e02acf82f34",
   "metadata": {},
   "outputs": [
    {
     "data": {
      "text/plain": [
       "date            datetime64[ns]\n",
       "time                    object\n",
       "comp                    object\n",
       "round                   object\n",
       "day                     object\n",
       "venue                   object\n",
       "result                  object\n",
       "gf                       int64\n",
       "ga                       int64\n",
       "opponent                object\n",
       "poss                   float64\n",
       "attendance             float64\n",
       "captain                 object\n",
       "formation               object\n",
       "referee                 object\n",
       "match report            object\n",
       "notes                   object\n",
       "sh                     float64\n",
       "sot                    float64\n",
       "pk                     float64\n",
       "pkatt                  float64\n",
       "season                  object\n",
       "team                    object\n",
       "xg                     float64\n",
       "xga                    float64\n",
       "opp_code                 int16\n",
       "hour                     int64\n",
       "round_code                int8\n",
       "day_code                 int64\n",
       "target                   int64\n",
       "dtype: object"
      ]
     },
     "execution_count": 360,
     "metadata": {},
     "output_type": "execute_result"
    }
   ],
   "source": [
    "matches_df.dtypes"
   ]
  },
  {
   "cell_type": "code",
   "execution_count": 361,
   "id": "b1b25449-2598-46a9-ac1b-d583105195ba",
   "metadata": {},
   "outputs": [
    {
     "name": "stdout",
     "output_type": "stream",
     "text": [
      "len:  32\n"
     ]
    },
    {
     "data": {
      "text/plain": [
       "Spain             59\n",
       "England           58\n",
       "Belgium           58\n",
       "France            57\n",
       "Denmark           57\n",
       "Poland            56\n",
       "Croatia           55\n",
       "Netherlands       55\n",
       "Germany           55\n",
       "Portugal          53\n",
       "Wales             51\n",
       "Serbia            49\n",
       "Switzerland       49\n",
       "Brazil            44\n",
       "Argentina         43\n",
       "Uruguay           42\n",
       "Ecuador           36\n",
       "Senegal           21\n",
       "Cameroon          18\n",
       "Tunisia           17\n",
       "Qatar             15\n",
       "Morocco           14\n",
       "Mexico            12\n",
       "United-States     12\n",
       "Australia         11\n",
       "Ghana             10\n",
       "Japan             10\n",
       "Canada             9\n",
       "Costa-Rica         8\n",
       "IR-Iran            6\n",
       "Korea-Republic     5\n",
       "Saudi-Arabia       4\n",
       "Name: team, dtype: int64"
      ]
     },
     "execution_count": 361,
     "metadata": {},
     "output_type": "execute_result"
    }
   ],
   "source": [
    "matches_no_na = matches_df.dropna(subset=['poss','sh', 'sot'])\n",
    "print('len: ', len(matches_no_na['team'].value_counts()))\n",
    "matches_no_na['team'].value_counts()\n"
   ]
  },
  {
   "cell_type": "code",
   "execution_count": 362,
   "id": "91e46c61-71b0-4995-aa6a-5b5af4db0ba3",
   "metadata": {},
   "outputs": [],
   "source": [
    "from sklearn.ensemble import RandomForestClassifier"
   ]
  },
  {
   "cell_type": "code",
   "execution_count": 363,
   "id": "9e16334f-4672-4a07-8462-2e3e128de9de",
   "metadata": {},
   "outputs": [],
   "source": [
    "rf = RandomForestClassifier(n_estimators=50, min_samples_split=10, random_state=1)"
   ]
  },
  {
   "cell_type": "code",
   "execution_count": 364,
   "id": "3bfef7d3-73ce-49b6-8b2b-7e9487a5eac7",
   "metadata": {},
   "outputs": [],
   "source": [
    "train = matches_no_na[matches_no_na['date'] < '2022-01-01']"
   ]
  },
  {
   "cell_type": "code",
   "execution_count": 365,
   "id": "7f998624-0d24-4e96-be38-82b40e8c9cc5",
   "metadata": {},
   "outputs": [],
   "source": [
    "test = matches_no_na[matches_no_na['date'] > '2022-01-01']"
   ]
  },
  {
   "cell_type": "code",
   "execution_count": 366,
   "id": "6d4a53c6-74aa-4360-b205-038a24c636b3",
   "metadata": {},
   "outputs": [
    {
     "data": {
      "text/plain": [
       "1049"
      ]
     },
     "execution_count": 366,
     "metadata": {},
     "output_type": "execute_result"
    }
   ],
   "source": [
    "len(train) +len(test)"
   ]
  },
  {
   "cell_type": "code",
   "execution_count": 367,
   "id": "8d82e050-d40f-444d-b82b-9a0a9e409578",
   "metadata": {},
   "outputs": [],
   "source": [
    "predictors = ['opp_code', 'hour', 'day_code']"
   ]
  },
  {
   "cell_type": "code",
   "execution_count": 368,
   "id": "6b78ae8e-5dce-4b7c-b2d2-dcdc366e8af1",
   "metadata": {},
   "outputs": [
    {
     "data": {
      "text/plain": [
       "RandomForestClassifier(min_samples_split=10, n_estimators=50, random_state=1)"
      ]
     },
     "execution_count": 368,
     "metadata": {},
     "output_type": "execute_result"
    }
   ],
   "source": [
    "rf.fit(train[predictors], train['target'])"
   ]
  },
  {
   "cell_type": "code",
   "execution_count": 369,
   "id": "cfd94fdc-4467-485a-8c4d-2ed459214ab0",
   "metadata": {},
   "outputs": [],
   "source": [
    "preds = rf.predict(test[predictors])"
   ]
  },
  {
   "cell_type": "code",
   "execution_count": 370,
   "id": "e389da60-6dcc-4393-a3f1-2a7433d92eea",
   "metadata": {},
   "outputs": [],
   "source": [
    "from sklearn.metrics import accuracy_score"
   ]
  },
  {
   "cell_type": "code",
   "execution_count": 371,
   "id": "e4d55ec8-a9cd-4335-a0c0-29c96df0d412",
   "metadata": {},
   "outputs": [],
   "source": [
    "acc = accuracy_score(test['target'], preds)"
   ]
  },
  {
   "cell_type": "code",
   "execution_count": 372,
   "id": "c8372c4a-879f-495d-a961-7370c13bceec",
   "metadata": {},
   "outputs": [
    {
     "data": {
      "text/plain": [
       "0.5317460317460317"
      ]
     },
     "execution_count": 372,
     "metadata": {},
     "output_type": "execute_result"
    }
   ],
   "source": [
    "acc"
   ]
  },
  {
   "cell_type": "code",
   "execution_count": 373,
   "id": "0bd38e7d-f194-4743-85c6-7d3a6aeb9d96",
   "metadata": {},
   "outputs": [],
   "source": [
    "combined = pd.DataFrame(dict(actual = test['target'], prediction = preds))"
   ]
  },
  {
   "cell_type": "code",
   "execution_count": 374,
   "id": "83cbd6d5-1350-4f11-8d50-aa8b50c14063",
   "metadata": {},
   "outputs": [
    {
     "data": {
      "application/com.datacamp.data-table.v1+json": {
       "is_truncated": false,
       "table": {
        "data": [
         {
          "0": 30,
          "1": 37,
          "actual": 0
         },
         {
          "0": 22,
          "1": 37,
          "actual": 1
         }
        ],
        "schema": {
         "fields": [
          {
           "name": "actual",
           "type": "integer"
          },
          {
           "name": 0,
           "type": "integer"
          },
          {
           "name": 1,
           "type": "integer"
          }
         ],
         "pandas_version": "0.20.0",
         "primaryKey": [
          "actual"
         ]
        }
       },
       "total_rows": 2
      },
      "text/html": [
       "<div>\n",
       "<style scoped>\n",
       "    .dataframe tbody tr th:only-of-type {\n",
       "        vertical-align: middle;\n",
       "    }\n",
       "\n",
       "    .dataframe tbody tr th {\n",
       "        vertical-align: top;\n",
       "    }\n",
       "\n",
       "    .dataframe thead th {\n",
       "        text-align: right;\n",
       "    }\n",
       "</style>\n",
       "<table border=\"1\" class=\"dataframe\">\n",
       "  <thead>\n",
       "    <tr style=\"text-align: right;\">\n",
       "      <th>prediction</th>\n",
       "      <th>0</th>\n",
       "      <th>1</th>\n",
       "    </tr>\n",
       "    <tr>\n",
       "      <th>actual</th>\n",
       "      <th></th>\n",
       "      <th></th>\n",
       "    </tr>\n",
       "  </thead>\n",
       "  <tbody>\n",
       "    <tr>\n",
       "      <th>0</th>\n",
       "      <td>30</td>\n",
       "      <td>37</td>\n",
       "    </tr>\n",
       "    <tr>\n",
       "      <th>1</th>\n",
       "      <td>22</td>\n",
       "      <td>37</td>\n",
       "    </tr>\n",
       "  </tbody>\n",
       "</table>\n",
       "</div>"
      ],
      "text/plain": [
       "prediction   0   1\n",
       "actual            \n",
       "0           30  37\n",
       "1           22  37"
      ]
     },
     "execution_count": 374,
     "metadata": {},
     "output_type": "execute_result"
    }
   ],
   "source": [
    "pd.crosstab(index=combined['actual'], columns=combined['prediction'])"
   ]
  },
  {
   "cell_type": "code",
   "execution_count": 375,
   "id": "c0a1fe42-3c0d-457b-a1cb-1f9081ea0863",
   "metadata": {},
   "outputs": [],
   "source": [
    "from sklearn.metrics import precision_score"
   ]
  },
  {
   "cell_type": "code",
   "execution_count": 376,
   "id": "c9e7a595-1cda-46d5-8ee8-f99261958045",
   "metadata": {},
   "outputs": [
    {
     "data": {
      "text/plain": [
       "0.5"
      ]
     },
     "execution_count": 376,
     "metadata": {},
     "output_type": "execute_result"
    }
   ],
   "source": [
    "precision_score(test['target'], preds)"
   ]
  }
 ],
 "metadata": {
  "kernelspec": {
   "display_name": "Python 3 (ipykernel)",
   "language": "python",
   "name": "python3"
  },
  "language_info": {
   "codemirror_mode": {
    "name": "ipython",
    "version": 3
   },
   "file_extension": ".py",
   "mimetype": "text/x-python",
   "name": "python",
   "nbconvert_exporter": "python",
   "pygments_lexer": "ipython3",
   "version": "3.8.10"
  }
 },
 "nbformat": 4,
 "nbformat_minor": 5
}
