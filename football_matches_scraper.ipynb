{
 "cells": [
  {
   "cell_type": "code",
   "execution_count": 120,
   "id": "3d133d6d-645b-469b-a256-ce0664a1897f",
   "metadata": {},
   "outputs": [],
   "source": [
    "import requests"
   ]
  },
  {
   "cell_type": "code",
   "execution_count": 123,
   "id": "1e747ded-0dd0-46d5-a0c1-effa6689e432",
   "metadata": {},
   "outputs": [],
   "source": [
    "from bs4 import BeautifulSoup"
   ]
  },
  {
   "cell_type": "code",
   "execution_count": 214,
   "id": "7b940b38-e078-4857-82b3-c973f828ed03",
   "metadata": {},
   "outputs": [],
   "source": [
    "import pandas as pd"
   ]
  },
  {
   "cell_type": "code",
   "execution_count": 168,
   "id": "f553f07f-482e-4909-a5a3-ae4fd9768655",
   "metadata": {},
   "outputs": [],
   "source": [
    "years = list(range(2022, 2012, -4))"
   ]
  },
  {
   "cell_type": "code",
   "execution_count": 192,
   "id": "a8df150a-2799-4e26-ae4b-b2b20a4f1f07",
   "metadata": {},
   "outputs": [],
   "source": [
    "all_matches = []"
   ]
  },
  {
   "cell_type": "code",
   "execution_count": 193,
   "id": "3f55dd99-81ed-465e-884c-8d51f78a32bb",
   "metadata": {},
   "outputs": [],
   "source": [
    "groups_url = 'https://fbref.com/en/comps/1/1711/2022-FIFA-World-Cup-Stats' "
   ]
  },
  {
   "cell_type": "code",
   "execution_count": 194,
   "id": "4f91f2b5-381f-4026-8f41-907eb73edb52",
   "metadata": {},
   "outputs": [],
   "source": [
    "import time\n",
    "for year in years:\n",
    "    \n",
    "    data = requests.get(groups_url)\n",
    "    soup = BeautifulSoup(data.text)\n",
    "    standings_table = soup.select('table.stats_table')[0:9]\n",
    "    links = [st.find_all('a') for st in standings_table]\n",
    "    \n",
    "    # get all the links of the groups in a single list \n",
    "    all_links = [link for groups in links for link in groups]\n",
    "    all_links = [l.get('href') for l in all_links]\n",
    "    all_list = [l for l in links_list if '/squads/' in l]\n",
    "    team_urls = [f'https://fbref.com{l}' for l in all_list]\n",
    "    \n",
    "    #store previous season for next loop\n",
    "    previous_season = soup.select('a.prev')[0].get('href')\n",
    "    groups_url = f'https://fbref.com{previous_season}'\n",
    "    \n",
    "    for team_url in team_urls:\n",
    "        team_name = team_url.split('/')[-1].replace('-Men-Stats', '')\n",
    "        data = requests.get(team_url)\n",
    "        \n",
    "        #create matches df\n",
    "        matches = pd.read_html(data.text, match='Scores & Fixtures')[0]\n",
    "        \n",
    "        #get and create shooting df\n",
    "        soup = BeautifulSoup(data.text)\n",
    "        links = soup.find_all('a')\n",
    "        links = [l.get('href') for l in links]\n",
    "        links = [l for l in links if l and '/all_comps/shooting/' in l]\n",
    "        data = requests.get(f'https://fbref.com{links[0]}')\n",
    "        shooting = pd.read_html(data.text, match='Shooting')[0]\n",
    "        shooting.columns = shooting.columns.droplevel()\n",
    "        \n",
    "        # somtimes shooting values dont exist for some teams\n",
    "        try:\n",
    "            team_data = matches.merge(shooting[['Date', 'Sh', 'SoT', 'PK', 'PKatt']], on ='Date')\n",
    "        except ValueError:\n",
    "            continue\n",
    "            \n",
    "        team_data['Season'] = year\n",
    "        team_data['Team'] = team_name\n",
    "        all_matches.append(team_data)\n",
    "        time.sleep(1)"
   ]
  },
  {
   "cell_type": "code",
   "execution_count": 195,
   "id": "f7986ea8-fb48-48fb-8a9a-e55bfbed2cd3",
   "metadata": {},
   "outputs": [],
   "source": [
    "match_df = pd.concat(all_matches)"
   ]
  },
  {
   "cell_type": "code",
   "execution_count": 196,
   "id": "9c8dfb05-5a1e-4866-bbdd-2e3a24075683",
   "metadata": {},
   "outputs": [],
   "source": [
    "match_df.columns = [c.lower() for c in match_df.columns]"
   ]
  },
  {
   "cell_type": "code",
   "execution_count": 213,
   "id": "19436915-8520-45fd-9788-85938cd1ad97",
   "metadata": {},
   "outputs": [
    {
     "data": {
      "text/plain": [
       "29"
      ]
     },
     "execution_count": 213,
     "metadata": {},
     "output_type": "execute_result"
    }
   ],
   "source": [
    "len(match_df[match_df['season']==2022].team.unique())"
   ]
  },
  {
   "cell_type": "code",
   "execution_count": 190,
   "id": "66b3cfe2-90d0-4e0d-b9f3-352eb23e1974",
   "metadata": {},
   "outputs": [],
   "source": [
    "data = requests.get('https://fbref.com/en/comps/1/FIFA-World-Cup-Stats')"
   ]
  },
  {
   "cell_type": "code",
   "execution_count": null,
   "id": "0575d415-4de7-4a25-80e6-66dcab2968e9",
   "metadata": {},
   "outputs": [],
   "source": [
    "match_df.to_csv('matches.csv')"
   ]
  }
 ],
 "metadata": {
  "kernelspec": {
   "display_name": "Python 3 (ipykernel)",
   "language": "python",
   "name": "python3"
  },
  "language_info": {
   "codemirror_mode": {
    "name": "ipython",
    "version": 3
   },
   "file_extension": ".py",
   "mimetype": "text/x-python",
   "name": "python",
   "nbconvert_exporter": "python",
   "pygments_lexer": "ipython3",
   "version": "3.8.10"
  }
 },
 "nbformat": 4,
 "nbformat_minor": 5
}
